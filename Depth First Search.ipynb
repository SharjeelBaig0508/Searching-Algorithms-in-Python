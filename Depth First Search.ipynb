{
 "cells": [
  {
   "cell_type": "markdown",
   "metadata": {},
   "source": [
    "# Depth First Search"
   ]
  },
  {
   "cell_type": "code",
   "execution_count": 6,
   "metadata": {},
   "outputs": [],
   "source": [
    "import queue as q\n",
    "def DFS(graph, source = 0, destination = 0, full_exploration = False):    # This is a technique to search node by node\n",
    "    waiting_nodes = q.LifoQueue()\n",
    "    visited_nodes = []\n",
    "    waiting_nodes.put(source)\n",
    "    while not waiting_nodes.empty():\n",
    "        node = waiting_nodes.get()\n",
    "        if node not in visited_nodes:\n",
    "            visited_nodes.append(node)\n",
    "            source = graph[node].copy()\n",
    "            source.reverse()\n",
    "            if (visited_nodes[-1] == destination) and (not full_exploration):\n",
    "                return visited_nodes\n",
    "            for connected in source:\n",
    "                waiting_nodes.put(connected)\n",
    "    return visited_nodes"
   ]
  },
  {
   "cell_type": "markdown",
   "metadata": {},
   "source": [
    "# Graph Making"
   ]
  },
  {
   "cell_type": "code",
   "execution_count": 7,
   "metadata": {},
   "outputs": [],
   "source": [
    "graph1 = {\n",
    "            0 : [1, 4, 5],\n",
    "            1 : [0, 2],\n",
    "            2 : [1, 3],\n",
    "            3 : [2],\n",
    "            4 : [0],\n",
    "            5 : [0, 6],\n",
    "            6 : [5]\n",
    "         }"
   ]
  },
  {
   "cell_type": "markdown",
   "metadata": {},
   "source": [
    "# Finding Node 3 from Node 0"
   ]
  },
  {
   "cell_type": "code",
   "execution_count": 10,
   "metadata": {},
   "outputs": [
    {
     "name": "stdout",
     "output_type": "stream",
     "text": [
      "[0, 1, 2, 3]\n"
     ]
    }
   ],
   "source": [
    "print(DFS(graph1, 0, 3))"
   ]
  },
  {
   "cell_type": "markdown",
   "metadata": {},
   "source": [
    "# Full Exploration"
   ]
  },
  {
   "cell_type": "code",
   "execution_count": 11,
   "metadata": {},
   "outputs": [
    {
     "name": "stdout",
     "output_type": "stream",
     "text": [
      "[0, 1, 2, 3, 4, 5, 6]\n"
     ]
    }
   ],
   "source": [
    "print(DFS(graph1, full_exploration = True))"
   ]
  },
  {
   "cell_type": "markdown",
   "metadata": {},
   "source": [
    "# ---------------------------------------------(Advance)-------------------------------------------"
   ]
  },
  {
   "cell_type": "markdown",
   "metadata": {},
   "source": [
    "# Graph Making (Using Class)"
   ]
  },
  {
   "cell_type": "code",
   "execution_count": 12,
   "metadata": {},
   "outputs": [
    {
     "name": "stdout",
     "output_type": "stream",
     "text": [
      "{'S': ['A', 'B', 'C'], 'A': ['S'], 'B': ['S', 'D'], 'C': ['S', 'E', 'F'], 'D': ['B', 'I'], 'E': ['C', 'J'], 'F': ['C', 'J'], 'I': ['D'], 'J': ['E', 'F']}\n"
     ]
    }
   ],
   "source": [
    "class Vertex:\n",
    "    def __init__(self, data):\n",
    "        self.vertex = data\n",
    "        self.neighbors = []\n",
    "    def add_neighbors(self, neighbors):\n",
    "        for neighbor in neighbors:\n",
    "            if neighbor.vertex not in self.neighbors:\n",
    "                self.neighbors.append(neighbor.vertex)\n",
    "                if self.vertex not in neighbor.neighbors:\n",
    "                    neighbor.neighbors.append(self.vertex)\n",
    "    def return_neighbors(self):\n",
    "        return {self.vertex : self.neighbors}\n",
    "\n",
    "class Graph:\n",
    "    def __init__(self, graph = None):\n",
    "        if graph == None:\n",
    "            graph = {}\n",
    "        self.graph = graph\n",
    "    def add_nodes(self, nodes):\n",
    "        for node in nodes:\n",
    "            self.graph[node.vertex] = []\n",
    "    def add_vertex(self, vertex):\n",
    "        self.graph[vertex.vertex] = vertex.neighbors\n",
    "    def add_vertices(self, vertices):\n",
    "        for v in vertices:\n",
    "            self.graph[v.vertex] = v.neighbors\n",
    "    def add_edges(self, source, destination):\n",
    "        if destination.vertex not in self.graph[source.vertex]:\n",
    "            self.graph[source.vertex].append(destination.vertex)\n",
    "            self.graph[destination.vertex].append(source.vertex)\n",
    "    def return_graph(self):\n",
    "        return self.graph\n",
    "\n",
    "graph2 = Graph()\n",
    "\n",
    "node_S = Vertex(\"S\")\n",
    "node_A = Vertex(\"A\")\n",
    "node_B = Vertex(\"B\")\n",
    "node_C = Vertex(\"C\")\n",
    "node_D = Vertex(\"D\")\n",
    "node_E = Vertex(\"E\")\n",
    "node_F = Vertex(\"F\")\n",
    "node_I = Vertex(\"I\")\n",
    "node_J = Vertex(\"J\")\n",
    "\n",
    "graph2.add_vertices([node_S, node_A, node_B, node_C, node_D, node_E, node_F, node_I, node_J])\n",
    "graph2.add_edges(node_S, node_A)\n",
    "graph2.add_edges(node_S, node_B)\n",
    "graph2.add_edges(node_S, node_C)\n",
    "graph2.add_edges(node_B, node_D)\n",
    "graph2.add_edges(node_C, node_E)\n",
    "graph2.add_edges(node_C, node_F)\n",
    "graph2.add_edges(node_D, node_I)\n",
    "graph2.add_edges(node_E, node_J)\n",
    "graph2.add_edges(node_F, node_J)\n",
    "\n",
    "print(graph2.return_graph())"
   ]
  },
  {
   "cell_type": "markdown",
   "metadata": {},
   "source": [
    "# Finding Node I From Node A"
   ]
  },
  {
   "cell_type": "code",
   "execution_count": 27,
   "metadata": {},
   "outputs": [
    {
     "name": "stdout",
     "output_type": "stream",
     "text": [
      "Path : ['A', 'S', 'B', 'D', 'I']\n"
     ]
    }
   ],
   "source": [
    "print(\"Path :\", DFS(graph2.return_graph(), \"A\", \"I\"))"
   ]
  },
  {
   "cell_type": "markdown",
   "metadata": {},
   "source": [
    "# Full Search"
   ]
  },
  {
   "cell_type": "code",
   "execution_count": 20,
   "metadata": {},
   "outputs": [
    {
     "name": "stdout",
     "output_type": "stream",
     "text": [
      "Total Path : ['A', 'S', 'B', 'D', 'I', 'C', 'E', 'J', 'F']\n"
     ]
    }
   ],
   "source": [
    "print(\"Total Path :\", DFS(graph2.return_graph(), \"A\", full_exploration = True))"
   ]
  },
  {
   "cell_type": "code",
   "execution_count": null,
   "metadata": {},
   "outputs": [],
   "source": []
  }
 ],
 "metadata": {
  "kernelspec": {
   "display_name": "Python 3",
   "language": "python",
   "name": "python3"
  },
  "language_info": {
   "codemirror_mode": {
    "name": "ipython",
    "version": 3
   },
   "file_extension": ".py",
   "mimetype": "text/x-python",
   "name": "python",
   "nbconvert_exporter": "python",
   "pygments_lexer": "ipython3",
   "version": "3.7.3"
  }
 },
 "nbformat": 4,
 "nbformat_minor": 2
}
